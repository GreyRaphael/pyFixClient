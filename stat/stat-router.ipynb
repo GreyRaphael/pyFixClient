{
 "cells": [
  {
   "cell_type": "code",
   "execution_count": 1,
   "metadata": {},
   "outputs": [],
   "source": [
    "import pandas as pd"
   ]
  },
  {
   "cell_type": "code",
   "execution_count": 2,
   "metadata": {},
   "outputs": [],
   "source": [
    "data=[]\n",
    "with open('log-1st/FIX.4.2-CSCII2-FIXTEST_Messages_20230927-0.log', 'r') as file:\n",
    "    for line in file:\n",
    "        fields=line.rstrip().split(chr(1))\n",
    "        record={}\n",
    "        for item in fields:\n",
    "            if item:\n",
    "                key, value=item.split('=')\n",
    "                record[key]=value\n",
    "        data.append(record)\n"
   ]
  },
  {
   "cell_type": "code",
   "execution_count": 3,
   "metadata": {},
   "outputs": [],
   "source": [
    "orders_send=[item for item in data if item.get('35')=='D']\n",
    "orders_recv=[item for item in data if item.get('39')=='0']\n",
    "cancel_send=[item for item in data if item.get('35')=='F']\n",
    "cancel_recv=[item for item in data if item.get('39')=='4']"
   ]
  },
  {
   "cell_type": "code",
   "execution_count": 4,
   "metadata": {},
   "outputs": [
    {
     "data": {
      "text/plain": [
       "(30, 14, 30, 14)"
      ]
     },
     "execution_count": 4,
     "metadata": {},
     "output_type": "execute_result"
    }
   ],
   "source": [
    "len(orders_send), len(orders_recv), len(cancel_send), len(cancel_recv)"
   ]
  },
  {
   "cell_type": "code",
   "execution_count": 5,
   "metadata": {},
   "outputs": [],
   "source": [
    "orders_send_dt=[{'id': item['11'], 'dt':key[:-12]} for item in orders_send for key in item if key.startswith('2023')]\n",
    "orders_recv_dt=[{'id': item['11'], 'dt':key[:-12]} for item in orders_recv for key in item if key.startswith('2023')]\n",
    "cancel_send_dt=[{'id': item['11'], 'dt':key[:-12]} for item in cancel_send for key in item if key.startswith('2023')]\n",
    "cancel_recv_dt=[{'id': item['11'], 'dt':key[:-12]} for item in cancel_recv for key in item if key.startswith('2023')]"
   ]
  },
  {
   "cell_type": "code",
   "execution_count": 6,
   "metadata": {},
   "outputs": [],
   "source": [
    "df_order_send=pd.DataFrame(orders_send_dt)\n",
    "df_order_recv=pd.DataFrame(orders_recv_dt)\n",
    "df_cancel_send=pd.DataFrame(cancel_send_dt)\n",
    "df_cancel_recv=pd.DataFrame(cancel_recv_dt)"
   ]
  },
  {
   "cell_type": "code",
   "execution_count": 7,
   "metadata": {},
   "outputs": [],
   "source": [
    "df_order=pd.merge(df_order_send, df_order_recv, on='id', how='inner', suffixes=('_send', '_recv'))\n",
    "df_cancel=pd.merge(df_cancel_send, df_cancel_recv, on='id', how='inner',suffixes=('_send', '_recv'))"
   ]
  },
  {
   "cell_type": "code",
   "execution_count": 8,
   "metadata": {},
   "outputs": [],
   "source": [
    "df_order.dt_send=pd.to_datetime(df_order.dt_send)\n",
    "df_order.dt_recv=pd.to_datetime(df_order.dt_recv)\n",
    "df_cancel.dt_send=pd.to_datetime(df_cancel.dt_send)\n",
    "df_cancel.dt_recv=pd.to_datetime(df_cancel.dt_recv)"
   ]
  },
  {
   "cell_type": "code",
   "execution_count": 9,
   "metadata": {},
   "outputs": [],
   "source": [
    "df_order['latency']=(df_order.dt_recv-df_order.dt_send).dt.total_seconds()*1000\n",
    "df_cancel['latency']=(df_cancel.dt_recv-df_cancel.dt_send).dt.total_seconds()*1000"
   ]
  },
  {
   "cell_type": "code",
   "execution_count": 17,
   "metadata": {},
   "outputs": [],
   "source": [
    "df_order.sort_values(by=['dt_send',]).to_csv('order-router.csv', index=False, sep='\\t')"
   ]
  },
  {
   "cell_type": "code",
   "execution_count": 18,
   "metadata": {},
   "outputs": [],
   "source": [
    "df_cancel.sort_values(by=['dt_send',]).to_csv('cancel-router.csv', index=False, sep='\\t')"
   ]
  },
  {
   "cell_type": "code",
   "execution_count": null,
   "metadata": {},
   "outputs": [],
   "source": []
  }
 ],
 "metadata": {
  "kernelspec": {
   "display_name": "base",
   "language": "python",
   "name": "python3"
  },
  "language_info": {
   "codemirror_mode": {
    "name": "ipython",
    "version": 3
   },
   "file_extension": ".py",
   "mimetype": "text/x-python",
   "name": "python",
   "nbconvert_exporter": "python",
   "pygments_lexer": "ipython3",
   "version": "3.10.13"
  },
  "orig_nbformat": 4
 },
 "nbformat": 4,
 "nbformat_minor": 2
}

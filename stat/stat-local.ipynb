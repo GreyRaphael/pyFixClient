{
 "cells": [
  {
   "cell_type": "code",
   "execution_count": 14,
   "metadata": {},
   "outputs": [],
   "source": [
    "import pandas as pd"
   ]
  },
  {
   "cell_type": "code",
   "execution_count": 15,
   "metadata": {},
   "outputs": [],
   "source": [
    "data=[]\n",
    "with open('log/FIX.4.2-FIXTEST-CSCII2.messages.current.log', 'r') as file:\n",
    "    for line in file:\n",
    "        fields=line.rstrip().split(chr(1))\n",
    "        record={}\n",
    "        for item in fields:\n",
    "            if item:\n",
    "                key, value=item.split('=')\n",
    "                record[key]=value\n",
    "        data.append(record)\n"
   ]
  },
  {
   "cell_type": "code",
   "execution_count": 16,
   "metadata": {},
   "outputs": [],
   "source": [
    "orders_send=[item for item in data if item.get('35')=='D']\n",
    "orders_recv=[item for item in data if item.get('39')=='0']\n",
    "cancel_send=[item for item in data if item.get('35')=='F']\n",
    "cancel_recv=[item for item in data if item.get('39')=='4']"
   ]
  },
  {
   "cell_type": "code",
   "execution_count": 17,
   "metadata": {},
   "outputs": [
    {
     "data": {
      "text/plain": [
       "(10, 10, 10, 10)"
      ]
     },
     "execution_count": 17,
     "metadata": {},
     "output_type": "execute_result"
    }
   ],
   "source": [
    "len(orders_send), len(orders_recv), len(cancel_send), len(cancel_recv)"
   ]
  },
  {
   "cell_type": "code",
   "execution_count": 18,
   "metadata": {},
   "outputs": [],
   "source": [
    "orders_send_dt=[{'id': item['11'], 'dt':key[:-4]} for item in orders_send for key in item if key.startswith('2023')]\n",
    "orders_recv_dt=[{'id': item['11'], 'dt':key[:-4]} for item in orders_recv for key in item if key.startswith('2023')]\n",
    "cancel_send_dt=[{'id': item['11'], 'dt':key[:-4], 'origin_id':item['41']} for item in cancel_send for key in item if key.startswith('2023')]\n",
    "cancel_recv_dt=[{'id': item['11'], 'dt':key[:-4], 'origin_id':item['41']} for item in cancel_recv for key in item if key.startswith('2023')]"
   ]
  },
  {
   "cell_type": "code",
   "execution_count": 19,
   "metadata": {},
   "outputs": [],
   "source": [
    "df_order_send=pd.DataFrame(orders_send_dt)\n",
    "df_order_recv=pd.DataFrame(orders_recv_dt)\n",
    "df_cancel_send=pd.DataFrame(cancel_send_dt)\n",
    "df_cancel_recv=pd.DataFrame(cancel_recv_dt)"
   ]
  },
  {
   "cell_type": "code",
   "execution_count": 20,
   "metadata": {},
   "outputs": [],
   "source": [
    "df_order=pd.merge(df_order_send, df_order_recv, on='id', how='inner', suffixes=('_send', '_recv'))\n",
    "df_cancel=pd.merge(df_cancel_send, df_cancel_recv, on=['id', 'origin_id'], how='inner',suffixes=('_send', '_recv'))"
   ]
  },
  {
   "cell_type": "code",
   "execution_count": 21,
   "metadata": {},
   "outputs": [],
   "source": [
    "df_order.dt_send=pd.to_datetime(df_order.dt_send)\n",
    "df_order.dt_recv=pd.to_datetime(df_order.dt_recv)\n",
    "df_cancel.dt_send=pd.to_datetime(df_cancel.dt_send)\n",
    "df_cancel.dt_recv=pd.to_datetime(df_cancel.dt_recv)"
   ]
  },
  {
   "cell_type": "code",
   "execution_count": 22,
   "metadata": {},
   "outputs": [],
   "source": [
    "df_order['latency']=(df_order.dt_recv-df_order.dt_send).dt.total_seconds()*1000\n",
    "df_cancel['latency']=(df_cancel.dt_recv-df_cancel.dt_send).dt.total_seconds()*1000"
   ]
  },
  {
   "cell_type": "code",
   "execution_count": 23,
   "metadata": {},
   "outputs": [],
   "source": [
    "# df_order.sort_values(by=['dt_send',]).to_csv('order-local.csv', index=False, sep='\\t')"
   ]
  },
  {
   "cell_type": "code",
   "execution_count": 24,
   "metadata": {},
   "outputs": [],
   "source": [
    "# df_cancel.sort_values(by=['dt_send',]).to_csv('cancel-local.csv', index=False, sep='\\t')"
   ]
  },
  {
   "cell_type": "code",
   "execution_count": 27,
   "metadata": {},
   "outputs": [
    {
     "data": {
      "text/html": [
       "<div>\n",
       "<style scoped>\n",
       "    .dataframe tbody tr th:only-of-type {\n",
       "        vertical-align: middle;\n",
       "    }\n",
       "\n",
       "    .dataframe tbody tr th {\n",
       "        vertical-align: top;\n",
       "    }\n",
       "\n",
       "    .dataframe thead th {\n",
       "        text-align: right;\n",
       "    }\n",
       "</style>\n",
       "<table border=\"1\" class=\"dataframe\">\n",
       "  <thead>\n",
       "    <tr style=\"text-align: right;\">\n",
       "      <th></th>\n",
       "      <th>id_order</th>\n",
       "      <th>dt_send_order</th>\n",
       "      <th>dt_recv_order</th>\n",
       "      <th>latency_order</th>\n",
       "      <th>id_cancel</th>\n",
       "      <th>dt_send_cancel</th>\n",
       "      <th>origin_id</th>\n",
       "      <th>dt_recv_cancel</th>\n",
       "      <th>latency_cancel</th>\n",
       "    </tr>\n",
       "  </thead>\n",
       "  <tbody>\n",
       "    <tr>\n",
       "      <th>0</th>\n",
       "      <td>1869009</td>\n",
       "      <td>2023-10-10 01:58:18.082363</td>\n",
       "      <td>2023-10-10 01:58:18.218924</td>\n",
       "      <td>136.561</td>\n",
       "      <td>1035306</td>\n",
       "      <td>2023-10-10 01:58:19.084431</td>\n",
       "      <td>1869009</td>\n",
       "      <td>2023-10-10 01:58:19.714312</td>\n",
       "      <td>629.881</td>\n",
       "    </tr>\n",
       "    <tr>\n",
       "      <th>1</th>\n",
       "      <td>1068365</td>\n",
       "      <td>2023-10-10 01:58:20.087829</td>\n",
       "      <td>2023-10-10 01:58:20.205826</td>\n",
       "      <td>117.997</td>\n",
       "      <td>1206993</td>\n",
       "      <td>2023-10-10 01:58:21.089307</td>\n",
       "      <td>1068365</td>\n",
       "      <td>2023-10-10 01:58:21.702437</td>\n",
       "      <td>613.130</td>\n",
       "    </tr>\n",
       "    <tr>\n",
       "      <th>2</th>\n",
       "      <td>1121998</td>\n",
       "      <td>2023-10-10 01:58:22.090637</td>\n",
       "      <td>2023-10-10 01:58:22.210166</td>\n",
       "      <td>119.529</td>\n",
       "      <td>1580468</td>\n",
       "      <td>2023-10-10 01:58:23.092774</td>\n",
       "      <td>1121998</td>\n",
       "      <td>2023-10-10 01:58:23.687744</td>\n",
       "      <td>594.970</td>\n",
       "    </tr>\n",
       "    <tr>\n",
       "      <th>3</th>\n",
       "      <td>1989592</td>\n",
       "      <td>2023-10-10 01:58:24.094552</td>\n",
       "      <td>2023-10-10 01:58:24.237660</td>\n",
       "      <td>143.108</td>\n",
       "      <td>1653929</td>\n",
       "      <td>2023-10-10 01:58:25.096514</td>\n",
       "      <td>1989592</td>\n",
       "      <td>2023-10-10 01:58:25.725366</td>\n",
       "      <td>628.852</td>\n",
       "    </tr>\n",
       "    <tr>\n",
       "      <th>4</th>\n",
       "      <td>1653581</td>\n",
       "      <td>2023-10-10 01:58:26.098241</td>\n",
       "      <td>2023-10-10 01:58:26.217941</td>\n",
       "      <td>119.700</td>\n",
       "      <td>1725045</td>\n",
       "      <td>2023-10-10 01:58:27.099642</td>\n",
       "      <td>1653581</td>\n",
       "      <td>2023-10-10 01:58:27.712634</td>\n",
       "      <td>612.992</td>\n",
       "    </tr>\n",
       "    <tr>\n",
       "      <th>5</th>\n",
       "      <td>1680286</td>\n",
       "      <td>2023-10-10 01:58:28.100974</td>\n",
       "      <td>2023-10-10 01:58:28.224406</td>\n",
       "      <td>123.432</td>\n",
       "      <td>1376940</td>\n",
       "      <td>2023-10-10 01:58:29.103097</td>\n",
       "      <td>1680286</td>\n",
       "      <td>2023-10-10 01:58:29.716556</td>\n",
       "      <td>613.459</td>\n",
       "    </tr>\n",
       "    <tr>\n",
       "      <th>6</th>\n",
       "      <td>1579133</td>\n",
       "      <td>2023-10-10 01:58:30.104786</td>\n",
       "      <td>2023-10-10 01:58:30.241198</td>\n",
       "      <td>136.412</td>\n",
       "      <td>1401585</td>\n",
       "      <td>2023-10-10 01:58:31.106421</td>\n",
       "      <td>1579133</td>\n",
       "      <td>2023-10-10 01:58:31.732532</td>\n",
       "      <td>626.111</td>\n",
       "    </tr>\n",
       "    <tr>\n",
       "      <th>7</th>\n",
       "      <td>1804919</td>\n",
       "      <td>2023-10-10 01:58:32.108057</td>\n",
       "      <td>2023-10-10 01:58:32.226423</td>\n",
       "      <td>118.366</td>\n",
       "      <td>1610148</td>\n",
       "      <td>2023-10-10 01:58:33.109847</td>\n",
       "      <td>1804919</td>\n",
       "      <td>2023-10-10 01:58:33.720431</td>\n",
       "      <td>610.584</td>\n",
       "    </tr>\n",
       "    <tr>\n",
       "      <th>8</th>\n",
       "      <td>1578481</td>\n",
       "      <td>2023-10-10 01:58:34.111120</td>\n",
       "      <td>2023-10-10 01:58:34.230373</td>\n",
       "      <td>119.253</td>\n",
       "      <td>1751920</td>\n",
       "      <td>2023-10-10 01:58:35.112587</td>\n",
       "      <td>1578481</td>\n",
       "      <td>2023-10-10 01:58:35.706783</td>\n",
       "      <td>594.196</td>\n",
       "    </tr>\n",
       "    <tr>\n",
       "      <th>9</th>\n",
       "      <td>1261295</td>\n",
       "      <td>2023-10-10 01:58:36.113756</td>\n",
       "      <td>2023-10-10 01:58:36.250802</td>\n",
       "      <td>137.046</td>\n",
       "      <td>1293013</td>\n",
       "      <td>2023-10-10 01:58:37.115929</td>\n",
       "      <td>1261295</td>\n",
       "      <td>2023-10-10 01:58:37.693074</td>\n",
       "      <td>577.145</td>\n",
       "    </tr>\n",
       "  </tbody>\n",
       "</table>\n",
       "</div>"
      ],
      "text/plain": [
       "  id_order              dt_send_order              dt_recv_order  \\\n",
       "0  1869009 2023-10-10 01:58:18.082363 2023-10-10 01:58:18.218924   \n",
       "1  1068365 2023-10-10 01:58:20.087829 2023-10-10 01:58:20.205826   \n",
       "2  1121998 2023-10-10 01:58:22.090637 2023-10-10 01:58:22.210166   \n",
       "3  1989592 2023-10-10 01:58:24.094552 2023-10-10 01:58:24.237660   \n",
       "4  1653581 2023-10-10 01:58:26.098241 2023-10-10 01:58:26.217941   \n",
       "5  1680286 2023-10-10 01:58:28.100974 2023-10-10 01:58:28.224406   \n",
       "6  1579133 2023-10-10 01:58:30.104786 2023-10-10 01:58:30.241198   \n",
       "7  1804919 2023-10-10 01:58:32.108057 2023-10-10 01:58:32.226423   \n",
       "8  1578481 2023-10-10 01:58:34.111120 2023-10-10 01:58:34.230373   \n",
       "9  1261295 2023-10-10 01:58:36.113756 2023-10-10 01:58:36.250802   \n",
       "\n",
       "   latency_order id_cancel             dt_send_cancel origin_id  \\\n",
       "0        136.561   1035306 2023-10-10 01:58:19.084431   1869009   \n",
       "1        117.997   1206993 2023-10-10 01:58:21.089307   1068365   \n",
       "2        119.529   1580468 2023-10-10 01:58:23.092774   1121998   \n",
       "3        143.108   1653929 2023-10-10 01:58:25.096514   1989592   \n",
       "4        119.700   1725045 2023-10-10 01:58:27.099642   1653581   \n",
       "5        123.432   1376940 2023-10-10 01:58:29.103097   1680286   \n",
       "6        136.412   1401585 2023-10-10 01:58:31.106421   1579133   \n",
       "7        118.366   1610148 2023-10-10 01:58:33.109847   1804919   \n",
       "8        119.253   1751920 2023-10-10 01:58:35.112587   1578481   \n",
       "9        137.046   1293013 2023-10-10 01:58:37.115929   1261295   \n",
       "\n",
       "              dt_recv_cancel  latency_cancel  \n",
       "0 2023-10-10 01:58:19.714312         629.881  \n",
       "1 2023-10-10 01:58:21.702437         613.130  \n",
       "2 2023-10-10 01:58:23.687744         594.970  \n",
       "3 2023-10-10 01:58:25.725366         628.852  \n",
       "4 2023-10-10 01:58:27.712634         612.992  \n",
       "5 2023-10-10 01:58:29.716556         613.459  \n",
       "6 2023-10-10 01:58:31.732532         626.111  \n",
       "7 2023-10-10 01:58:33.720431         610.584  \n",
       "8 2023-10-10 01:58:35.706783         594.196  \n",
       "9 2023-10-10 01:58:37.693074         577.145  "
      ]
     },
     "execution_count": 27,
     "metadata": {},
     "output_type": "execute_result"
    }
   ],
   "source": [
    "pd.merge(left=df_order, right=df_cancel,left_on='id', right_on='origin_id', how='inner', suffixes=('_order', '_cancel'))"
   ]
  },
  {
   "cell_type": "code",
   "execution_count": null,
   "metadata": {},
   "outputs": [],
   "source": []
  }
 ],
 "metadata": {
  "kernelspec": {
   "display_name": "base",
   "language": "python",
   "name": "python3"
  },
  "language_info": {
   "codemirror_mode": {
    "name": "ipython",
    "version": 3
   },
   "file_extension": ".py",
   "mimetype": "text/x-python",
   "name": "python",
   "nbconvert_exporter": "python",
   "pygments_lexer": "ipython3",
   "version": "3.10.13"
  },
  "orig_nbformat": 4
 },
 "nbformat": 4,
 "nbformat_minor": 2
}
